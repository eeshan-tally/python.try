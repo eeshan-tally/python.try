{
  "nbformat": 4,
  "nbformat_minor": 0,
  "metadata": {
    "colab": {
      "provenance": []
    },
    "kernelspec": {
      "name": "python3",
      "display_name": "Python 3"
    },
    "language_info": {
      "name": "python"
    }
  },
  "cells": [
    {
      "cell_type": "code",
      "source": [
        "def get_valid_input():\n",
        "    while True:\n",
        "        try:\n",
        "            num = int(input())\n",
        "            return num\n",
        "        except ValueError:\n",
        "            print(\"Invalid input\")\n",
        "\n",
        "def calculate_factorial(num):\n",
        "    if num < 0:\n",
        "        print(\"factorial does not exist\")\n",
        "        return None\n",
        "    elif num == 0:\n",
        "        return 1\n",
        "    else:\n",
        "        factorial = 1\n",
        "        for i in range(1, num + 1):\n",
        "            factorial *= i\n",
        "        return factorial\n",
        "\n",
        "def print_output(num, factorial):\n",
        "    if factorial is not None:\n",
        "        print(f\"The factorial of {num} is {factorial}\")\n",
        "\n",
        "def main():\n",
        "    num = get_valid_input()\n",
        "    factorial = calculate_factorial(num)\n",
        "    print_output(num, factorial)\n",
        "\n",
        "if __name__ == \"__main__\":\n",
        "    main()\n"
      ],
      "metadata": {
        "colab": {
          "base_uri": "https://localhost:8080/"
        },
        "id": "p485TclmU_SC",
        "outputId": "202026da-e731-467d-c607-09d29a33660e"
      },
      "execution_count": null,
      "outputs": [
        {
          "output_type": "stream",
          "name": "stdout",
          "text": [
            "6\n",
            "The factorial of 6 is 720\n"
          ]
        }
      ]
    }
  ]
}