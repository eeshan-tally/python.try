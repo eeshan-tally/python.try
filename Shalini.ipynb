{
  "nbformat": 4,
  "nbformat_minor": 0,
  "metadata": {
    "colab": {
      "provenance": []
    },
    "kernelspec": {
      "name": "python3",
      "display_name": "Python 3"
    },
    "language_info": {
      "name": "python"
    }
  },
  "cells": [
    {
      "cell_type": "code",
      "source": [
        "def fact(n):\n",
        "  #To Calculate Factorial of a number\n",
        "  if n==0:\n",
        "    return 1\n",
        "  else:\n",
        "    return n*fact(n-1)\n",
        "def nCr(n,r):\n",
        "  #To Calculate nCr value\n",
        "  if r>n:\n",
        "    return 0\n",
        "  else:\n",
        "    return fact(n)/(fact(r)*fact(n-r))\n",
        "def main():\n",
        "  try:\n",
        "    n=int(input(\"enter the value of n:\"))\n",
        "    r=int(input(\"enter the value of r:\"))\n",
        "    result=nCr(n,r)\n",
        "    print(f\"{n}C{r}={result}\")\n",
        "  except ValueError:\n",
        "    print(\"Invalid input.Please enter n and r values\")\n",
        "if __name__==\"__main__\":\n",
        "  main()"
      ],
      "metadata": {
        "colab": {
          "base_uri": "https://localhost:8080/"
        },
        "id": "g6qpKij8EnBP",
        "outputId": "1ec5bd51-ee1b-4acc-cfc3-ccc35c8483c9"
      },
      "execution_count": null,
      "outputs": [
        {
          "output_type": "stream",
          "name": "stdout",
          "text": [
            "enter the value of n:10\n",
            "enter the value of r:5\n",
            "10C5=252.0\n"
          ]
        }
      ]
    }
  ]
}